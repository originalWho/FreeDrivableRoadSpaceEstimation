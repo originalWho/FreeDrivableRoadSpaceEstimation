{
 "cells": [
  {
   "cell_type": "markdown",
   "metadata": {},
   "source": [
    "## Estimating Free Drivable Road Space"
   ]
  },
  {
   "cell_type": "markdown",
   "metadata": {},
   "source": [
    "#### Environment setup\n",
    "Import dependencies, define constant values"
   ]
  },
  {
   "cell_type": "code",
   "execution_count": null,
   "metadata": {
    "collapsed": true
   },
   "outputs": [],
   "source": [
    "%matplotlib inline\n",
    "%load_ext autoreload\n",
    "%autoreload 2\n",
    "\n",
    "import os\n",
    "\n",
    "WORKING_DIR = '.'\n",
    "MODELS_DIR = 'model'\n",
    "IMAGES_DIR = 'img'\n",
    "VIDEO_DIR = 'video'\n",
    "TEMP_DIR = 'tmp'\n",
    "\n",
    "DATASETS_DIR = 'dataset'\n",
    "BDD100K_DIR = 'bdd100k'"
   ]
  },
  {
   "cell_type": "markdown",
   "metadata": {},
   "source": [
    "Set TensorFlow as Keras back-end"
   ]
  },
  {
   "cell_type": "code",
   "execution_count": null,
   "metadata": {
    "collapsed": true
   },
   "outputs": [],
   "source": [
    "from tensorflow import keras\n",
    "import tensorflow as tf\n",
    "\n",
    "def get_session():\n",
    "    #config = tf.ConfigProto()\n",
    "    config = tf.compat.v1.ConfigProto()\n",
    "    config.gpu_options.allow_growth = True\n",
    "    return tf.compat.v1.Session(config = config)\n",
    "    #return tf.Session(config = config)\n",
    "\n",
    "#os.environ[\"CUDA_VISIBLE_DEVICES\"] = \"1\"\n",
    "\n",
    "def setTensorFlowBackend():\n",
    "    session = get_session()\n",
    "    tf.keras.backend.set_session(session)\n",
    "    #keras.backend.tensorflow_backend.set_session(session)\n",
    "    \n",
    "setTensorFlowBackend()"
   ]
  },
  {
   "cell_type": "markdown",
   "metadata": {},
   "source": [
    "#### Hardware Setup\n",
    "Detect physical GPU"
   ]
  },
  {
   "cell_type": "code",
   "execution_count": null,
   "metadata": {
    "collapsed": true
   },
   "outputs": [],
   "source": [
    "from tensorflow.python.client import device_lib\n",
    "\n",
    "def get_available_gpus():\n",
    "    local_device_protos = device_lib.list_local_devices()\n",
    "    return [x.physical_device_desc for x in local_device_protos if x.device_type == 'GPU']\n",
    "\n",
    "gpu = get_available_gpus()[-1][17:33]\n",
    "print(gpu)"
   ]
  },
  {
   "cell_type": "markdown",
   "metadata": {},
   "source": [
    "#### Debug Helper Methods"
   ]
  },
  {
   "cell_type": "code",
   "execution_count": null,
   "metadata": {
    "collapsed": true
   },
   "outputs": [],
   "source": [
    "import matplotlib.pyplot as plt\n",
    "\n",
    "def show_image(image, size = (15, 15), show_axis = 'off'):\n",
    "    plt.figure(figsize = size)\n",
    "    plt.axis(show_axis)\n",
    "    plt.imshow(image)\n",
    "    plt.show()"
   ]
  },
  {
   "cell_type": "markdown",
   "metadata": {},
   "source": [
    "### Object Detection\n",
    "#### Pre-trained RetinaNet Model Loading\n",
    "Load pre-trained model and prepare it if needed"
   ]
  },
  {
   "cell_type": "code",
   "execution_count": null,
   "metadata": {
    "collapsed": true
   },
   "outputs": [],
   "source": [
    "from keras_retinanet import models\n",
    "\n",
    "def load_retinanet_model(model_name,\n",
    "                         backbone_name,\n",
    "                         should_convert_to_inference_model = False,\n",
    "                         should_print_summary = False):\n",
    "    \n",
    "    model_path = os.path.join(WORKING_DIR, MODELS_DIR, model_name)\n",
    "    model = models.load_model(model_path, backbone_name = backbone_name)\n",
    "\n",
    "    if (should_convert_to_inference_model):\n",
    "        model = models.convert_model(model)\n",
    "        \n",
    "    if (should_print_summary):\n",
    "        print(model.summary())\n",
    "    \n",
    "    return model\n",
    "\n",
    "def get_name_for_label(label):\n",
    "    return 'Label'\n",
    "\n",
    "# labels_to_names = {0: 'person', 1: 'bicycle', 2: 'car', 3: 'motorcycle', 4: 'airplane', 5: 'bus', 6: 'train', 7: 'truck', 8: 'boat', 9: 'traffic light', 10: 'fire hydrant', 11: 'stop sign', 12: 'parking meter', 13: 'bench', 14: 'bird', 15: 'cat', 16: 'dog', 17: 'horse', 18: 'sheep', 19: 'cow', 20: 'elephant', 21: 'bear', 22: 'zebra', 23: 'giraffe', 24: 'backpack', 25: 'umbrella', 26: 'handbag', 27: 'tie', 28: 'suitcase', 29: 'frisbee', 30: 'skis', 31: 'snowboard', 32: 'sports ball', 33: 'kite', 34: 'baseball bat', 35: 'baseball glove', 36: 'skateboard', 37: 'surfboard', 38: 'tennis racket', 39: 'bottle', 40: 'wine glass', 41: 'cup', 42: 'fork', 43: 'knife', 44: 'spoon', 45: 'bowl', 46: 'banana', 47: 'apple', 48: 'sandwich', 49: 'orange', 50: 'broccoli', 51: 'carrot', 52: 'hot dog', 53: 'pizza', 54: 'donut', 55: 'cake', 56: 'chair', 57: 'couch', 58: 'potted plant', 59: 'bed', 60: 'dining table', 61: 'toilet', 62: 'tv', 63: 'laptop', 64: 'mouse', 65: 'remote', 66: 'keyboard', 67: 'cell phone', 68: 'microwave', 69: 'oven', 70: 'toaster', 71: 'sink', 72: 'refrigerator', 73: 'book', 74: 'clock', 75: 'vase', 76: 'scissors', 77: 'teddy bear', 78: 'hair drier', 79: 'toothbrush'}"
   ]
  },
  {
   "cell_type": "markdown",
   "metadata": {},
   "source": [
    "#### Object Detection Pipeline Methods"
   ]
  },
  {
   "cell_type": "code",
   "execution_count": null,
   "metadata": {
    "collapsed": true
   },
   "outputs": [],
   "source": [
    "import cv2\n",
    "import time\n",
    "import numpy as np\n",
    "\n",
    "from keras_retinanet.utils.colors import label_color\n",
    "from keras_retinanet.utils.visualization import draw_box, draw_caption\n",
    "from keras_retinanet.utils.image import preprocess_image, resize_image\n",
    "\n",
    "def apply_region_of_interest_to_image(image):\n",
    "    # TODO: Implement\n",
    "    return image\n",
    "\n",
    "def prepare_frame_for_detection(image):\n",
    "    image = preprocess_image(image)\n",
    "    image = apply_region_of_interest_to_image(image)\n",
    "    image, scale = resize_image(image)\n",
    "    \n",
    "    return image, scale\n",
    "\n",
    "def detect_objects_from_prepared_image(image, image_scale, model, verbose):\n",
    "    start_time = time.time()\n",
    "    boxes, scores, labels = model.predict_on_batch(np.expand_dims(image, axis = 0))\n",
    "    boxes /= image_scale\n",
    "    if (verbose):\n",
    "        print(\"image processing time: \", time.time() - start_time)\n",
    "    \n",
    "    return zip(boxes[0], scores[0], labels[0])\n",
    "\n",
    "def visualize_object_detections(detections, image, score_threshold = 0.5):\n",
    "    annotated_image = image.copy()\n",
    "    annotated_image = cv2.cvtColor(annotated_image, cv2.COLOR_BGR2RGB)\n",
    "    \n",
    "    for box, score, label in detections:\n",
    "        if (score < score_threshold):\n",
    "            continue\n",
    "            \n",
    "        box_type = box.astype(int)\n",
    "        box_color = label_color(label)\n",
    "        \n",
    "        draw_box(annotated_image, box_type, color = box_color)\n",
    "        caption = \"{} {:.3f}\".format(get_name_for_label(label), score)\n",
    "        draw_caption(annotated_image, box_type, caption)\n",
    "        \n",
    "    return annotated_image\n",
    "\n",
    "def detect_objects_in_frame(frame, model, verbose):\n",
    "    image, image_scale = prepare_frame_for_detection(frame)\n",
    "    detections = detect_objects_from_prepared_image(image, image_scale, model, verbose)\n",
    "    annotated_frame = visualize_object_detections(detections, frame)\n",
    "    \n",
    "    return annotated_frame"
   ]
  },
  {
   "cell_type": "markdown",
   "metadata": {},
   "source": [
    "#### Object Detection on Video Capture"
   ]
  },
  {
   "cell_type": "code",
   "execution_count": null,
   "metadata": {
    "collapsed": true
   },
   "outputs": [],
   "source": [
    "def run_objects_detection_from_capture(capture, model, verbose = False):\n",
    "    frames_read = 0\n",
    "    \n",
    "    while (True):\n",
    "        retval, frame = capture.read()\n",
    "        if not retval:\n",
    "            return\n",
    "        \n",
    "        annotated_image = detect_objects_in_frame(frame, model, verbose)\n",
    "        annotated_image_path = os.path.join(WORKING_DIR, TEMP_DIR, 'img%08d.jpg' % frames_read)\n",
    "        cv2.imwrite(annotated_image_path, annotated_image)\n",
    "        \n",
    "        if (verbose):\n",
    "            show_image(annotated_image)\n",
    "        \n",
    "        frames_read += 1\n",
    "        \n",
    "    capture.release()\n",
    "    cv2.destroyAllWindows()"
   ]
  },
  {
   "cell_type": "markdown",
   "metadata": {},
   "source": [
    "#### Object Detection on Images"
   ]
  },
  {
   "cell_type": "code",
   "execution_count": null,
   "metadata": {
    "collapsed": true
   },
   "outputs": [],
   "source": [
    "from keras_retinanet.utils.image import read_image_bgr\n",
    "\n",
    "def run_object_detection_for_image_named(image_name, model, verbose = False):\n",
    "    image_path = os.path.join(WORKING_DIR, IMAGES_DIR, image_name)\n",
    "    image = read_image_bgr(image_path)\n",
    "    annotated_image = detect_objects_in_frame(image, model, verbose)\n",
    "    if (verbose):\n",
    "        show_image(annotated_image)"
   ]
  },
  {
   "cell_type": "markdown",
   "metadata": {},
   "source": [
    "### Drivable Area Segmentation"
   ]
  },
  {
   "cell_type": "markdown",
   "metadata": {},
   "source": [
    "#### Image Data Generators"
   ]
  },
  {
   "cell_type": "code",
   "execution_count": null,
   "metadata": {
    "collapsed": true
   },
   "outputs": [],
   "source": [
    "from keras.preprocessing.image import ImageDataGenerator\n",
    "\n",
    "def make_data_generator(data_generator_args, images_directory, masks_directory, seed, target_size, batch_size):\n",
    "    image_data_generator = ImageDataGenerator(**data_generator_args)\n",
    "    #image_data_generator.fit(images, augment = True, seed = seed)\n",
    "    image_generator = image_data_generator.flow_from_directory(images_directory,\n",
    "                                                               class_mode = None,\n",
    "                                                               target_size = target_size,\n",
    "                                                               seed = seed,\n",
    "                                                               batch_size = batch_size)\n",
    "    \n",
    "    mask_data_generator = ImageDataGenerator(**data_generator_args)\n",
    "    #mask_data_generator.fit(masks, augment = True, seed = seed)\n",
    "    mask_generator = mask_data_generator.flow_from_directory(masks_directory,\n",
    "                                                             class_mode = None,\n",
    "                                                             target_size = target_size,\n",
    "                                                             seed = seed,\n",
    "                                                             batch_size = batch_size)\n",
    "    \n",
    "    for (img, mask) in zip(image_generator, mask_generator):\n",
    "        yield (img, mask)\n",
    "    \n",
    "def make_train_data_generator(images_directory, masks_directory, seed = 1, target_size = (512, 512), batch_size = 1):\n",
    "    data_generator_args = dict(rescale = 1. / 255,\n",
    "                               shear_range = 0.2,\n",
    "                               zoom_range = 0.2,\n",
    "                               horizontal_flip = True)\n",
    "    \n",
    "    return make_data_generator(data_generator_args, \n",
    "                               images_directory, \n",
    "                               masks_directory, \n",
    "                               seed, \n",
    "                               target_size, \n",
    "                               batch_size)\n",
    "\n",
    "def make_val_data_generator(images_directory, masks_directory, seed = 1, target_size = (512, 512), batch_size = 1):\n",
    "    data_generator_args = dict(rescale = 1. / 255)\n",
    "    \n",
    "    return make_data_generator(data_generator_args, \n",
    "                               images_directory, \n",
    "                               masks_directory, \n",
    "                               seed, \n",
    "                               target_size, \n",
    "                               batch_size)"
   ]
  },
  {
   "cell_type": "markdown",
   "metadata": {},
   "source": [
    "#### DeepLabV3+ Model Training"
   ]
  },
  {
   "cell_type": "code",
   "execution_count": null,
   "metadata": {
    "collapsed": true
   },
   "outputs": [],
   "source": [
    "from deeplab_v3_model import Deeplabv3\n",
    "\n",
    "from keras.callbacks import ModelCheckpoint\n",
    "from keras.callbacks import EarlyStopping\n",
    "from keras.optimizers import SGD\n",
    "\n",
    "def train_deeplabv3_model(train_data_generator,\n",
    "                          train_images_count,\n",
    "                          val_data_generator,\n",
    "                          val_images_count,\n",
    "                          epochs,\n",
    "                          monitor,\n",
    "                          mode,\n",
    "                          classes,\n",
    "                          batch_size):\n",
    "    \n",
    "    model = Deeplabv3(classes = classes)\n",
    "    \n",
    "    optimizer = SGD(lr = (0.01 / 16 * batch_size), momentum = 0.9, decay = 0.0005)\n",
    "    model.compile(loss = 'categorical_crossentropy',\n",
    "                  optimizer = 'SGD',\n",
    "                  metrics = ['accuracy'])\n",
    "    \n",
    "    weights_path = os.path.join(WORKING_DIR, MODELS_DIR)\n",
    "    checkpoint = ModelCheckpoint(weights_path, \n",
    "                                 monitor = monitor, \n",
    "                                 verbose = 1,\n",
    "                                 save_best_only = True,\n",
    "                                 mode = mode)\n",
    "    \n",
    "    early_stopping = EarlyStopping(monitor = monitor,\n",
    "                                   verbose = 1,\n",
    "                                   min_delta = 0.01,\n",
    "                                   patience = 3,\n",
    "                                   mode = mode)\n",
    "\n",
    "    callbacks = [checkpoint, early_stopping]\n",
    "\n",
    "    results = model.fit_generator(train_data_generator,\n",
    "                                  epochs = epochs,\n",
    "                                  steps_per_epoch = (train_images_count // batch_size),\n",
    "                                  validation_data = val_data_generator,\n",
    "                                  validation_steps = (val_images_count // batch_size),\n",
    "                                  callbacks = callbacks)\n",
    "    \n",
    "    model_path = os.path.join(WORKING_DIR, MODELS_DIR, model.name)\n",
    "    model.save(model_path)\n",
    "    \n",
    "    return model"
   ]
  },
  {
   "cell_type": "markdown",
   "metadata": {},
   "source": [
    "#### Road Space Segmentation Pipeline Methods"
   ]
  },
  {
   "cell_type": "code",
   "execution_count": null,
   "metadata": {
    "collapsed": true
   },
   "outputs": [],
   "source": [
    "def prepare_frame_for_segmentation(image):\n",
    "    image = preprocess_image(image)\n",
    "    image = apply_region_of_interest_to_image(image)\n",
    "    image, scale = resize_image(image)\n",
    "    \n",
    "    return image, scale\n",
    "\n",
    "def segment_road_space_in_prepared_image(image, image_scale, model, verbose):\n",
    "    start_time = time.time()\n",
    "    \n",
    "    prediction = model.predict(np.expand_dims(image, axis = 0))\n",
    "    segmentations = np.argmax(prediction.squeeze(), -1)\n",
    "    \n",
    "    boxes /= image_scale\n",
    "    if (verbose):\n",
    "        print(\"image processing time: \", time.time() - start_time)\n",
    "    \n",
    "    return zip(boxes[0], scores[0], labels[0])\n",
    "\n",
    "def visualize_road_space_segmentation(segmentations, frame, score_threshold = 0.5):\n",
    "    annotated_image = image.copy()\n",
    "    annotated_image = cv2.cvtColor(annotated_image, cv2.COLOR_BGR2RGB)\n",
    "    \n",
    "    for box, score, label in detections:\n",
    "        if (score < score_threshold):\n",
    "            continue\n",
    "            \n",
    "        box_type = box.astype(int)\n",
    "        box_color = label_color(label)\n",
    "        \n",
    "        draw_box(annotated_image, box_type, color = box_color)\n",
    "        caption = \"{} {:.3f}\".format(get_name_for_label(label), score)\n",
    "        draw_caption(annotated_image, box_type, caption)\n",
    "        \n",
    "    return annotated_image\n",
    "\n",
    "def segment_road_space_in_frame(frame, model, verbose):\n",
    "    image, image_scale = prepare_frame_for_segmentation(frame)\n",
    "    detections = segment_road_space_in_prepared_image(image, image_scale, model, verbose)\n",
    "    segmented_frame = visualize_road_space_segmentation(detections, frame)\n",
    "    \n",
    "    return segmented_frame\n",
    "        \n",
    "def run_road_space_segmentation_for_image_named(image_name, model, verbose = False):\n",
    "    image_path = os.path.join(WORKING_DIR, IMAGES_DIR, image_name)\n",
    "    image = read_image_bgr(image_path)\n",
    "    segmented_image = segment_road_space_in_frame(image, model, verbose)\n",
    "    if (verbose):\n",
    "        show_image(segmented_image)"
   ]
  },
  {
   "cell_type": "code",
   "execution_count": null,
   "metadata": {
    "collapsed": true
   },
   "outputs": [],
   "source": [
    "from PIL import Image\n",
    "\n",
    "def _segment_road_space_in_image(image, model, verbose):\n",
    "    trained_image_width = 512 \n",
    "    mean_subtraction_value = 127.5\n",
    "\n",
    "    w, h, _ = image.shape\n",
    "    ratio = float(trained_image_width) / np.max([w, h])\n",
    "    resized_image = np.array(Image.fromarray(image.astype('uint8')).resize((int(ratio * h), int(ratio * w))))    \n",
    "    resized_image = (resized_image / mean_subtraction_value) - 1.\n",
    "\n",
    "    pad_x = int(trained_image_width - resized_image.shape[0])\n",
    "    pad_y = int(trained_image_width - resized_image.shape[1])\n",
    "    resized_image = np.pad(resized_image, ((0, pad_x), (0, pad_y), (0, 0)), mode = 'constant')\n",
    "\n",
    "    res = model.predict(np.expand_dims(resized_image, 0))\n",
    "    labels = np.argmax(res.squeeze(), -1)\n",
    "    \n",
    "    if pad_x > 0:\n",
    "        labels = labels[:-pad_x]\n",
    "    if pad_y > 0:\n",
    "        labels = labels[:, :-pad_y]\n",
    "    labels = np.array(Image.fromarray(labels.astype('uint8')).resize((h, w)))\n",
    "    \n",
    "    return labels\n",
    "\n",
    "def _run_road_space_segmentation_for_image_named(image_name, model, verbose = False):\n",
    "    image_path = os.path.join(WORKING_DIR, IMAGES_DIR, image_name)\n",
    "    image = np.array(Image.open(image_path))\n",
    "    segmented_image = _segment_road_space_in_image(image, model, verbose)\n",
    "    if (verbose):\n",
    "        show_image(segmented_image)"
   ]
  },
  {
   "cell_type": "markdown",
   "metadata": {},
   "source": [
    "#### DeepLabV3+ Model Training using BDD100K Dataset"
   ]
  },
  {
   "cell_type": "code",
   "execution_count": null,
   "metadata": {
    "collapsed": true
   },
   "outputs": [],
   "source": [
    "BDD100K_IMG_DIR = 'images/100k'\n",
    "BDD100K_MASK_DIR = 'drivable_maps/labels'\n",
    "BDD100K_TRAIN_DIR = 'train'\n",
    "BDD100K_VAL_DIR = 'val'\n",
    "\n",
    "BDD100K_TRAIN_IMG_PATH = os.path.join(WORKING_DIR, DATASETS_DIR, BDD100K_DIR, BDD100K_IMG_DIR, BDD100K_TRAIN_DIR)\n",
    "BDD100K_VAL_IMG_PATH = os.path.join(WORKING_DIR, DATASETS_DIR, BDD100K_DIR, BDD100K_IMG_DIR, BDD100K_VAL_DIR)\n",
    "\n",
    "BDD100K_TRAIN_MASK_PATH = os.path.join(WORKING_DIR, DATASETS_DIR, BDD100K_DIR, BDD100K_MASK_DIR, BDD100K_TRAIN_DIR)\n",
    "BDD100K_VAL_MASK_PATH = os.path.join(WORKING_DIR, DATASETS_DIR, BDD100K_DIR, BDD100K_MASK_DIR, BDD100K_VAL_DIR)\n",
    "\n",
    "def train_deeplabv3_bdd100k_model(epochs = 30, monitor = 'val_loss', mode = 'max', batch_size = 4):\n",
    "    train_data_generator = make_train_data_generator(BDD100K_TRAIN_IMG_PATH, BDD100K_TRAIN_MASK_PATH)\n",
    "    train_images_count = len(os.listdir(BDD100K_TRAIN_IMG_PATH))\n",
    "    \n",
    "    val_data_generator = make_val_data_generator(BDD100K_VAL_IMG_PATH, BDD100K_VAL_MASK_PATH)\n",
    "    val_images_count = len(os.listdir(BDD100K_VAL_IMG_PATH))\n",
    "    \n",
    "    model = train_deeplabv3_model(train_data_generator,\n",
    "                                  train_images_count, \n",
    "                                  val_data_generator,\n",
    "                                  val_images_count,\n",
    "                                  epochs,\n",
    "                                  monitor,\n",
    "                                  mode,\n",
    "                                  classes = 3,\n",
    "                                  batch_size = batch_size)\n",
    "    return model"
   ]
  },
  {
   "cell_type": "markdown",
   "metadata": {},
   "source": [
    "### Distance Estimation"
   ]
  },
  {
   "cell_type": "markdown",
   "metadata": {},
   "source": [
    "#### Detected Objects Distance Estimation"
   ]
  },
  {
   "cell_type": "code",
   "execution_count": null,
   "metadata": {
    "collapsed": true
   },
   "outputs": [],
   "source": [
    "def estimate_distance_to_detected_objects_in_image(image):\n",
    "    # TODO: Implement\n",
    "    return image"
   ]
  },
  {
   "cell_type": "markdown",
   "metadata": {},
   "source": [
    "### Deployment"
   ]
  },
  {
   "cell_type": "markdown",
   "metadata": {},
   "source": [
    "#### Model instantiation"
   ]
  },
  {
   "cell_type": "code",
   "execution_count": null,
   "metadata": {
    "collapsed": true
   },
   "outputs": [],
   "source": [
    "object_detection_model = load_retinanet_model(\n",
    "    model_name = 'resnet50_coco_best_v2.1.0.h5',\n",
    "    backbone_name = 'resnet50',\n",
    "    should_print_summary = True\n",
    ")"
   ]
  },
  {
   "cell_type": "code",
   "execution_count": null,
   "metadata": {
    "collapsed": true
   },
   "outputs": [],
   "source": [
    "drivable_area_segmentation_model = train_deeplabv3_bdd100k_model(epochs = 1)"
   ]
  },
  {
   "cell_type": "markdown",
   "metadata": {},
   "source": [
    "#### Object Detection"
   ]
  },
  {
   "cell_type": "code",
   "execution_count": null,
   "metadata": {
    "collapsed": true
   },
   "outputs": [],
   "source": [
    "video_path = os.path.join(WORKING_DIR, VIDEO_DIR, '')\n",
    "video_capture = cv2.VideoCapture(video_path)\n",
    "\n",
    "run_objects_detection_from_capture(video_capture, object_detection_model)"
   ]
  },
  {
   "cell_type": "code",
   "execution_count": null,
   "metadata": {
    "collapsed": true
   },
   "outputs": [],
   "source": [
    "image_names = [\n",
    "    ''\n",
    "]\n",
    "\n",
    "for image_name in image_names:\n",
    "    run_object_detection_for_image_named(image_name, object_detection_model, verbose = True)"
   ]
  },
  {
   "cell_type": "markdown",
   "metadata": {},
   "source": [
    "#### Drivable Area Segmentation"
   ]
  },
  {
   "cell_type": "code",
   "execution_count": null,
   "metadata": {
    "collapsed": true
   },
   "outputs": [],
   "source": [
    "image_names = [\n",
    "    ''\n",
    "]\n",
    "\n",
    "for image_name in image_names:\n",
    "    _run_road_space_segmentation_for_image_named(image_name, drivable_area_segmentation_model, verbose = True)"
   ]
  }
 ],
 "metadata": {
  "kernelspec": {
   "display_name": "Python 3",
   "language": "python",
   "name": "python3"
  },
  "language_info": {
   "codemirror_mode": {
    "name": "ipython",
    "version": 3
   },
   "file_extension": ".py",
   "mimetype": "text/x-python",
   "name": "python",
   "nbconvert_exporter": "python",
   "pygments_lexer": "ipython3",
   "version": "3.6.8"
  }
 },
 "nbformat": 4,
 "nbformat_minor": 2
}
