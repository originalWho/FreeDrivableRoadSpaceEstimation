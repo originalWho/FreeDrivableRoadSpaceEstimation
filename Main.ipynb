{
 "cells": [
  {
   "cell_type": "markdown",
   "metadata": {},
   "source": [
    "## Estimating Free Drivable Road Space"
   ]
  },
  {
   "cell_type": "markdown",
   "metadata": {},
   "source": [
    "#### Environment setup\n",
    "Import dependencies, define constant values"
   ]
  },
  {
   "cell_type": "code",
   "execution_count": 2,
   "metadata": {
    "collapsed": true
   },
   "outputs": [],
   "source": [
    "%matplotlib inline\n",
    "%load_ext autoreload\n",
    "%autoreload 2\n",
    "\n",
    "import os\n",
    "\n",
    "WORKING_DIR = '.'\n",
    "MODELS_DIR = 'model'\n",
    "VIDEO_DIR = 'video'\n",
    "TEMP_DIR = 'tmp'"
   ]
  },
  {
   "cell_type": "markdown",
   "metadata": {},
   "source": [
    "Set TensorFlow as Keras back-end"
   ]
  },
  {
   "cell_type": "code",
   "execution_count": 3,
   "metadata": {},
   "outputs": [
    {
     "ename": "ModuleNotFoundError",
     "evalue": "No module named 'keras'",
     "output_type": "error",
     "traceback": [
      "\u001b[0;31m---------------------------------------------------------------------------\u001b[0m",
      "\u001b[0;31mModuleNotFoundError\u001b[0m                       Traceback (most recent call last)",
      "\u001b[0;32m<ipython-input-3-70d95b3f1307>\u001b[0m in \u001b[0;36m<module>\u001b[0;34m()\u001b[0m\n\u001b[0;32m----> 1\u001b[0;31m \u001b[0;32mimport\u001b[0m \u001b[0mkeras\u001b[0m\u001b[0;34m\u001b[0m\u001b[0;34m\u001b[0m\u001b[0m\n\u001b[0m\u001b[1;32m      2\u001b[0m \u001b[0;32mimport\u001b[0m \u001b[0mtensorflow\u001b[0m \u001b[0;32mas\u001b[0m \u001b[0mtf\u001b[0m\u001b[0;34m\u001b[0m\u001b[0;34m\u001b[0m\u001b[0m\n\u001b[1;32m      3\u001b[0m \u001b[0;34m\u001b[0m\u001b[0m\n\u001b[1;32m      4\u001b[0m \u001b[0;32mdef\u001b[0m \u001b[0mget_session\u001b[0m\u001b[0;34m(\u001b[0m\u001b[0;34m)\u001b[0m\u001b[0;34m:\u001b[0m\u001b[0;34m\u001b[0m\u001b[0;34m\u001b[0m\u001b[0m\n\u001b[1;32m      5\u001b[0m     \u001b[0mconfig\u001b[0m \u001b[0;34m=\u001b[0m \u001b[0mtf\u001b[0m\u001b[0;34m.\u001b[0m\u001b[0mConfigProto\u001b[0m\u001b[0;34m(\u001b[0m\u001b[0;34m)\u001b[0m\u001b[0;34m\u001b[0m\u001b[0;34m\u001b[0m\u001b[0m\n",
      "\u001b[0;31mModuleNotFoundError\u001b[0m: No module named 'keras'"
     ]
    }
   ],
   "source": [
    "import keras\n",
    "import tensorflow as tf\n",
    "\n",
    "def get_session():\n",
    "    config = tf.ConfigProto()\n",
    "    config.gpu_options.allow_growth = True\n",
    "    return tf.Session(config = config)\n",
    "\n",
    "#os.environ[\"CUDA_VISIBLE_DEVICES\"] = \"1\"\n",
    "\n",
    "def setTensorFlowBackend():\n",
    "    session = get_session()\n",
    "    keras.backend.tensorflow_backend.set_session(session)\n",
    "    \n",
    "setTensorFlowBackend()"
   ]
  },
  {
   "cell_type": "markdown",
   "metadata": {},
   "source": [
    "#### Pre-trained Model Loading\n",
    "Load pre-trained model and prepare it if needed"
   ]
  },
  {
   "cell_type": "code",
   "execution_count": 4,
   "metadata": {},
   "outputs": [
    {
     "ename": "ModuleNotFoundError",
     "evalue": "No module named 'keras_retinanet'",
     "output_type": "error",
     "traceback": [
      "\u001b[0;31m---------------------------------------------------------------------------\u001b[0m",
      "\u001b[0;31mModuleNotFoundError\u001b[0m                       Traceback (most recent call last)",
      "\u001b[0;32m<ipython-input-4-5eb928d9b773>\u001b[0m in \u001b[0;36m<module>\u001b[0;34m()\u001b[0m\n\u001b[0;32m----> 1\u001b[0;31m \u001b[0;32mfrom\u001b[0m \u001b[0mkeras_retinanet\u001b[0m\u001b[0;34m.\u001b[0m\u001b[0mmodels\u001b[0m \u001b[0;32mimport\u001b[0m \u001b[0mload_model\u001b[0m\u001b[0;34m,\u001b[0m \u001b[0mconvert_model\u001b[0m\u001b[0;34m\u001b[0m\u001b[0;34m\u001b[0m\u001b[0m\n\u001b[0m\u001b[1;32m      2\u001b[0m \u001b[0;34m\u001b[0m\u001b[0m\n\u001b[1;32m      3\u001b[0m def load_model(model_name,\n\u001b[1;32m      4\u001b[0m                \u001b[0mbackbone_name\u001b[0m\u001b[0;34m,\u001b[0m\u001b[0;34m\u001b[0m\u001b[0;34m\u001b[0m\u001b[0m\n\u001b[1;32m      5\u001b[0m                \u001b[0mshould_convert_to_inference_model\u001b[0m \u001b[0;34m=\u001b[0m \u001b[0;32mFalse\u001b[0m\u001b[0;34m,\u001b[0m\u001b[0;34m\u001b[0m\u001b[0;34m\u001b[0m\u001b[0m\n",
      "\u001b[0;31mModuleNotFoundError\u001b[0m: No module named 'keras_retinanet'"
     ]
    }
   ],
   "source": [
    "from keras_retinanet.models import load_model, convert_model\n",
    "\n",
    "def load_model(model_name,\n",
    "               backbone_name,\n",
    "               should_convert_to_inference_model = False,\n",
    "               should_print_summary = False):\n",
    "    \n",
    "    model_path = os.path.join(WORKING_DIR, MODELS_DIR, model_name)\n",
    "    model = load_model(model_path, backbone_name = backbone_name)\n",
    "\n",
    "    if (should_convert_to_inference_model):\n",
    "        model = convert_model(model)\n",
    "        \n",
    "    if (should_print_summary):\n",
    "        print(model.summary())\n",
    "    \n",
    "    return model\n",
    "\n",
    "def get_name_for_label(label):\n",
    "    return 'Label'\n",
    "\n",
    "# labels_to_names = {0: 'person', 1: 'bicycle', 2: 'car', 3: 'motorcycle', 4: 'airplane', 5: 'bus', 6: 'train', 7: 'truck', 8: 'boat', 9: 'traffic light', 10: 'fire hydrant', 11: 'stop sign', 12: 'parking meter', 13: 'bench', 14: 'bird', 15: 'cat', 16: 'dog', 17: 'horse', 18: 'sheep', 19: 'cow', 20: 'elephant', 21: 'bear', 22: 'zebra', 23: 'giraffe', 24: 'backpack', 25: 'umbrella', 26: 'handbag', 27: 'tie', 28: 'suitcase', 29: 'frisbee', 30: 'skis', 31: 'snowboard', 32: 'sports ball', 33: 'kite', 34: 'baseball bat', 35: 'baseball glove', 36: 'skateboard', 37: 'surfboard', 38: 'tennis racket', 39: 'bottle', 40: 'wine glass', 41: 'cup', 42: 'fork', 43: 'knife', 44: 'spoon', 45: 'bowl', 46: 'banana', 47: 'apple', 48: 'sandwich', 49: 'orange', 50: 'broccoli', 51: 'carrot', 52: 'hot dog', 53: 'pizza', 54: 'donut', 55: 'cake', 56: 'chair', 57: 'couch', 58: 'potted plant', 59: 'bed', 60: 'dining table', 61: 'toilet', 62: 'tv', 63: 'laptop', 64: 'mouse', 65: 'remote', 66: 'keyboard', 67: 'cell phone', 68: 'microwave', 69: 'oven', 70: 'toaster', 71: 'sink', 72: 'refrigerator', 73: 'book', 74: 'clock', 75: 'vase', 76: 'scissors', 77: 'teddy bear', 78: 'hair drier', 79: 'toothbrush'}"
   ]
  },
  {
   "cell_type": "markdown",
   "metadata": {},
   "source": [
    "#### Hardware Setup\n",
    "Detect physical GPU"
   ]
  },
  {
   "cell_type": "code",
   "execution_count": null,
   "metadata": {
    "collapsed": true
   },
   "outputs": [],
   "source": [
    "from tensorflow.python.client import device_lib\n",
    "\n",
    "def get_available_gpus():\n",
    "    local_device_protos = device_lib.list_local_devices()\n",
    "    return [x.physical_device_desc for x in local_device_protos if x.device_type == 'GPU']\n",
    "\n",
    "gpu = get_available_gpus()[-1][17:33]\n",
    "print(gpu)"
   ]
  },
  {
   "cell_type": "markdown",
   "metadata": {},
   "source": [
    "#### Debug Helper Methods"
   ]
  },
  {
   "cell_type": "code",
   "execution_count": null,
   "metadata": {
    "collapsed": true
   },
   "outputs": [],
   "source": [
    "import matplotlib.pyplot as plt\n",
    "\n",
    "def show_image(image, size = (15, 15), show_axis = 'off'):\n",
    "    plt.figure(figsize = size)\n",
    "    plt.axis(show_axis)\n",
    "    plt.imshow(image)\n",
    "    plt.show()"
   ]
  },
  {
   "cell_type": "markdown",
   "metadata": {},
   "source": [
    "#### Object Detection\n"
   ]
  },
  {
   "cell_type": "code",
   "execution_count": null,
   "metadata": {
    "collapsed": true
   },
   "outputs": [],
   "source": [
    "import cv2\n",
    "import time\n",
    "import numpy as np\n",
    "\n",
    "from keras_retinanet.utils.colors import label_color\n",
    "from keras_retinanet.utils.visualization import draw_box, draw_caption\n",
    "from keras_retinanet.utils.image import read_image_bgr, preprocess_image, resize_image\n",
    "\n",
    "def apply_region_of_interest_to_image(image):\n",
    "    # TODO: Implement\n",
    "    return image\n",
    "\n",
    "def prepare_frame_for_detection(frame):\n",
    "    frame_bgr = cv2.cvtColor(frame, cv2.COLOR_RGB2BGR)\n",
    "    image = preprocess_image(frame_bgr)\n",
    "    image = apply_region_of_interest_to_image(image)\n",
    "    image, scale = resize_image(image)\n",
    "    \n",
    "    return image, scale\n",
    "\n",
    "def detect_objects_from_prepared_image(image, image_scale, model, verbose):\n",
    "    start_time = time.time()\n",
    "    boxes, scores, labels = model.predict_on_batch(np.expand_dims(image, axis = 0))\n",
    "    boxes /= image_scale\n",
    "    if (verbose):\n",
    "        print(\"image processing time: \", time.time() - start_time)\n",
    "    \n",
    "    return zip(boxes, scores, labels)\n",
    "\n",
    "def visualize_detections(detections, image, score_threshold = 0.5):\n",
    "    for box, score, label in detections:\n",
    "        if (score < score_threshold):\n",
    "            continue\n",
    "            \n",
    "        box_type = box.astype(int)\n",
    "        box_color = label_color(label)\n",
    "        \n",
    "        draw_box(draw, box_type, color = box_color)\n",
    "        caption = \"{} {:.3f}\".format(get_name_for_label(label), score)\n",
    "        draw_caption(image, box_type, caption)\n",
    "        \n",
    "    return image\n",
    "\n",
    "def detect_objects_in_frame(frame, model, verbose):\n",
    "    image, image_scale = prepare_frame_for_detection(frame)\n",
    "    detections = detect_objects_from_prepared_image(image, image_scale, model, verbose)\n",
    "    annotated_image = visualize_detections(detections, image)\n",
    "    \n",
    "    return annotated_image\n",
    "    \n",
    "def run_objects_detection_from_capture(capture, model, verbose = False):\n",
    "    frames_read = 0\n",
    "    \n",
    "    while (True):\n",
    "        retval, frame = capture.read()\n",
    "        if not retval:\n",
    "            return\n",
    "        \n",
    "        annotated_image = detect_objects_in_frame(frame, model, verbose)\n",
    "        annotated_image_path = os.path.join(WORKING_DIR, TEMP_DIR, 'img%08d.jpg' % frames_read)\n",
    "        cv2.imwrite(annotated_image_path, annotated_image)\n",
    "        \n",
    "        if (verbose):\n",
    "            show_image(annotated_image)\n",
    "        \n",
    "        frames_read += 1\n",
    "        \n",
    "    capture.release()\n",
    "    cv2.destroyAllWindows()"
   ]
  },
  {
   "cell_type": "markdown",
   "metadata": {},
   "source": [
    "#### Object Detection on Video Capture\n",
    "Load model and video, run object detection"
   ]
  },
  {
   "cell_type": "code",
   "execution_count": null,
   "metadata": {
    "collapsed": true
   },
   "outputs": [],
   "source": [
    "video_path = os.path.join(WORKING_DIR, VIDEO_DIR, '')\n",
    "video_capture = cv2.VideoCapture(video_path)\n",
    "\n",
    "model = load_model(\n",
    "    model_name = 'resnet50_coco_best_v2.1.0.h5',\n",
    "    backbone_name = 'resnet50',\n",
    "    should_print_summary = True\n",
    ")\n",
    "\n",
    "run_objects_detection_from_capture(video_capture, model)"
   ]
  }
 ],
 "metadata": {
  "kernelspec": {
   "display_name": "Python 3",
   "language": "python",
   "name": "python3"
  },
  "language_info": {
   "codemirror_mode": {
    "name": "ipython",
    "version": 3
   },
   "file_extension": ".py",
   "mimetype": "text/x-python",
   "name": "python",
   "nbconvert_exporter": "python",
   "pygments_lexer": "ipython3",
   "version": "3.6.8"
  }
 },
 "nbformat": 4,
 "nbformat_minor": 2
}
